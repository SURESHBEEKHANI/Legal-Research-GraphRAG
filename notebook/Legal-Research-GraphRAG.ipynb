{
 "cells": [
  {
   "cell_type": "code",
   "execution_count": 1,
   "metadata": {},
   "outputs": [],
   "source": [
    "# Import statements for various modules and classes needed for the script.\n",
    "import os  # Basic operating system functionality\n",
    "from langchain_core.runnables import (  # Runnable classes for different types of operations\n",
    "    RunnableBranch,\n",
    "    RunnableLambda,\n",
    "    RunnableParallel,\n",
    "    RunnablePassthrough,\n",
    ")\n",
    "from langchain.text_splitter import RecursiveCharacterTextSplitter\n",
    "from langchain_community.document_loaders.csv_loader import CSVLoader\n",
    "from langchain_core.prompts import ChatPromptTemplate  # Template for chat prompts\n",
    "from langchain_core.prompts.prompt import PromptTemplate  # Template for prompts\n",
    "from typing import Tuple, List, Optional  # Type hints for function signatures\n",
    "from langchain_core.messages import AIMessage, HumanMessage  # Message classes for AI and human interaction\n",
    "from langchain_core.output_parsers import StrOutputParser  # Parser for string outputs\n",
    "from langchain_core.runnables import ConfigurableField  # Configurable fields for operations\n",
    "from yfiles_jupyter_graphs import GraphWidget  # Widget for displaying graphs in Jupyter\n",
    "from neo4j import GraphDatabase  # Neo4j graph database connection\n",
    "from langchain_community.vectorstores import Neo4jVector  # Vector store using Neo4j\n",
    "from langchain_community.graphs import Neo4jGraph  # Graph operations using Neo4j\n",
    "from langchain.text_splitter import TokenTextSplitter  # Text splitter based on tokens\n",
    "from langchain_groq import ChatGroq  # Query language for chatting\n",
    "from langchain_experimental.graph_transformers import LLMGraphTransformer  # Experimental graph transformer\n",
    "from langchain_community.vectorstores.neo4j_vector import remove_lucene_chars\n",
    "import os\n",
    "from dotenv import load_dotenv"
   ]
  },
  {
   "cell_type": "code",
   "execution_count": 2,
   "metadata": {},
   "outputs": [],
   "source": [
    "# Load environment variables from the system\n",
    "NEO4J_URI = os.environ.get(\"NEO4J_URI\")  # Retrieves the Neo4j URI from environment variables\n",
    "NEO4J_USERNAME = os.environ.get(\"NEO4J_USERNAME\")  # Retrieves the Neo4j username\n",
    "NEO4J_PASSWORD = os.environ.get(\"NEO4J_PASSWORD\")  # Retrieves the Neo4j password\n",
    "GROQ_API_KEY = os.environ.get('GROQ_API_KEY')  # Retrieves the Groq API key\n",
    "\n",
    "# Setting environment variables for Neo4j and GROQ API in the current session\n",
    "os.environ[\"NEO4J_URI\"] = NEO4J_URI  # Stores the Neo4j URI in the environment variables\n",
    "os.environ[\"NEO4J_USERNAME\"] = NEO4J_USERNAME  # Stores the Neo4j username\n",
    "os.environ[\"NEO4J_PASSWORD\"] = NEO4J_PASSWORD  # Stores the Neo4j password\n",
    "os.environ['Groq_api_key'] = GROQ_API_KEY  # Stores the Groq API key in environment variables"
   ]
  },
  {
   "cell_type": "code",
   "execution_count": 3,
   "metadata": {},
   "outputs": [
    {
     "name": "stderr",
     "output_type": "stream",
     "text": [
      "C:\\Users\\SURESH BEEKHANI\\AppData\\Local\\Temp\\ipykernel_1996\\2843364450.py:2: LangChainDeprecationWarning: The class `Neo4jGraph` was deprecated in LangChain 0.3.8 and will be removed in 1.0. An updated version of the class exists in the :class:`~langchain-neo4j package and should be used instead. To use it run `pip install -U :class:`~langchain-neo4j` and import as `from :class:`~langchain_neo4j import Neo4jGraph``.\n",
      "  graph = Neo4jGraph(\n"
     ]
    }
   ],
   "source": [
    "# Establish a connection to the Neo4j graph database\n",
    "graph = Neo4jGraph(\n",
    "    url=NEO4J_URI,        # Neo4j database URI\n",
    "    username=NEO4J_USERNAME,  # Username for authentication\n",
    "    password=NEO4J_PASSWORD,  # Password for authentication\n",
    ")"
   ]
  },
  {
   "cell_type": "code",
   "execution_count": 7,
   "metadata": {},
   "outputs": [],
   "source": [
    "# Option 1: Using a raw string (if the file is in a 'data' folder within the cwd)\n",
    "loader = CSVLoader(file_path=r\"F:\\Multi-AI-Agent-RAG-With-LangGraph\\data\\legal_research.csv\")\n",
    "\n",
    "# Option 2: Alternatively, using forward slashes\n",
    "# loader = CSVLoader(file_path=\"data/legal_research.csv\")\n",
    "\n",
    "docs_list = loader.load()\n",
    "\n",
    "# Limit to 20 samples\n",
    "docs_list = docs_list[:20]  \n",
    "\n",
    "# Split\n",
    "text_splitter = RecursiveCharacterTextSplitter.from_tiktoken_encoder(\n",
    "    chunk_size=500, chunk_overlap=20\n",
    ")\n",
    "doc_splits = text_splitter.split_documents(docs_list)"
   ]
  },
  {
   "cell_type": "code",
   "execution_count": 8,
   "metadata": {},
   "outputs": [
    {
     "data": {
      "text/plain": [
       "[Document(metadata={'source': 'F:\\\\Multi-AI-Agent-RAG-With-LangGraph\\\\data\\\\legal_research.csv', 'row': 0}, page_content='DocumentID: 1\\nCaseName: Case 1\\nDocumentType: Regulatory Filing\\nDate: 2019-04-02\\nSummary: An in-depth analysis of intellectual property is provided in this corporate mergers document.\\nRelevanceScore: 90\\nKeywords: environmental, regulation, compliance'),\n",
       " Document(metadata={'source': 'F:\\\\Multi-AI-Agent-RAG-With-LangGraph\\\\data\\\\legal_research.csv', 'row': 1}, page_content='DocumentID: 2\\nCaseName: Case 2\\nDocumentType: Brief\\nDate: 2018-04-13\\nSummary: This filing examines risk management and offers insights into litigation strategy.\\nRelevanceScore: 79\\nKeywords: employment, discrimination, labor'),\n",
       " Document(metadata={'source': 'F:\\\\Multi-AI-Agent-RAG-With-LangGraph\\\\data\\\\legal_research.csv', 'row': 2}, page_content='DocumentID: 3\\nCaseName: Case 3\\nDocumentType: Legal Analysis\\nDate: 2021-01-31\\nSummary: This document discusses environmental regulations with reference to corporate mergers.\\nRelevanceScore: 66\\nKeywords: privacy, data, security'),\n",
       " Document(metadata={'source': 'F:\\\\Multi-AI-Agent-RAG-With-LangGraph\\\\data\\\\legal_research.csv', 'row': 3}, page_content='DocumentID: 4\\nCaseName: Case 4\\nDocumentType: Patent Filing\\nDate: 2020-09-30\\nSummary: An in-depth analysis of environmental regulations is provided in this employment law document.\\nRelevanceScore: 98\\nKeywords: regulation, policy, update'),\n",
       " Document(metadata={'source': 'F:\\\\Multi-AI-Agent-RAG-With-LangGraph\\\\data\\\\legal_research.csv', 'row': 4}, page_content='DocumentID: 5\\nCaseName: Case 5\\nDocumentType: Regulatory Filing\\nDate: 2020-07-03\\nSummary: This document discusses contract law with reference to environmental regulations.\\nRelevanceScore: 69\\nKeywords: privacy, data, security'),\n",
       " Document(metadata={'source': 'F:\\\\Multi-AI-Agent-RAG-With-LangGraph\\\\data\\\\legal_research.csv', 'row': 5}, page_content='DocumentID: 6\\nCaseName: Case 6\\nDocumentType: Settlement Agreement\\nDate: 2019-07-26\\nSummary: A detailed review of risk management with implications for intellectual property is outlined here.\\nRelevanceScore: 97\\nKeywords: privacy, data, security'),\n",
       " Document(metadata={'source': 'F:\\\\Multi-AI-Agent-RAG-With-LangGraph\\\\data\\\\legal_research.csv', 'row': 6}, page_content='DocumentID: 7\\nCaseName: Case 7\\nDocumentType: Probate Filing\\nDate: 2019-02-24\\nSummary: A detailed review of compliance issues with implications for risk management is outlined here.\\nRelevanceScore: 74\\nKeywords: merger, acquisition, corporate'),\n",
       " Document(metadata={'source': 'F:\\\\Multi-AI-Agent-RAG-With-LangGraph\\\\data\\\\legal_research.csv', 'row': 7}, page_content='DocumentID: 8\\nCaseName: Case 8\\nDocumentType: Regulatory Filing\\nDate: 2024-02-12\\nSummary: An in-depth analysis of compliance issues is provided in this privacy concerns document.\\nRelevanceScore: 71\\nKeywords: privacy, data, security'),\n",
       " Document(metadata={'source': 'F:\\\\Multi-AI-Agent-RAG-With-LangGraph\\\\data\\\\legal_research.csv', 'row': 8}, page_content='DocumentID: 9\\nCaseName: Case 9\\nDocumentType: Legal Analysis\\nDate: 2018-12-23\\nSummary: A detailed review of environmental regulations with implications for employment law is outlined here.\\nRelevanceScore: 62\\nKeywords: contract, damages, breach'),\n",
       " Document(metadata={'source': 'F:\\\\Multi-AI-Agent-RAG-With-LangGraph\\\\data\\\\legal_research.csv', 'row': 9}, page_content='DocumentID: 10\\nCaseName: Case 10\\nDocumentType: Patent Filing\\nDate: 2024-08-15\\nSummary: This document discusses intellectual property with reference to compliance issues.\\nRelevanceScore: 68\\nKeywords: intellectual property, patent, trademark'),\n",
       " Document(metadata={'source': 'F:\\\\Multi-AI-Agent-RAG-With-LangGraph\\\\data\\\\legal_research.csv', 'row': 10}, page_content='DocumentID: 11\\nCaseName: Case 11\\nDocumentType: Brief\\nDate: 2022-09-25\\nSummary: An in-depth analysis of employment law is provided in this regulatory changes document.\\nRelevanceScore: 98\\nKeywords: compliance, legal, advisory'),\n",
       " Document(metadata={'source': 'F:\\\\Multi-AI-Agent-RAG-With-LangGraph\\\\data\\\\legal_research.csv', 'row': 11}, page_content='DocumentID: 12\\nCaseName: Case 12\\nDocumentType: Legal Analysis\\nDate: 2018-05-11\\nSummary: A detailed review of contract law with implications for regulatory changes is outlined here.\\nRelevanceScore: 85\\nKeywords: regulation, policy, update'),\n",
       " Document(metadata={'source': 'F:\\\\Multi-AI-Agent-RAG-With-LangGraph\\\\data\\\\legal_research.csv', 'row': 12}, page_content='DocumentID: 13\\nCaseName: Case 13\\nDocumentType: Legal Analysis\\nDate: 2018-05-03\\nSummary: An in-depth analysis of intellectual property is provided in this privacy concerns document.\\nRelevanceScore: 61\\nKeywords: privacy, data, security'),\n",
       " Document(metadata={'source': 'F:\\\\Multi-AI-Agent-RAG-With-LangGraph\\\\data\\\\legal_research.csv', 'row': 13}, page_content='DocumentID: 14\\nCaseName: Case 14\\nDocumentType: Probate Filing\\nDate: 2019-01-19\\nSummary: An in-depth analysis of privacy concerns is provided in this regulatory changes document.\\nRelevanceScore: 90\\nKeywords: environmental, regulation, compliance'),\n",
       " Document(metadata={'source': 'F:\\\\Multi-AI-Agent-RAG-With-LangGraph\\\\data\\\\legal_research.csv', 'row': 14}, page_content='DocumentID: 15\\nCaseName: Case 15\\nDocumentType: Criminal Complaint\\nDate: 2020-06-14\\nSummary: This filing examines risk management and offers insights into litigation strategy.\\nRelevanceScore: 68\\nKeywords: environmental, regulation, compliance'),\n",
       " Document(metadata={'source': 'F:\\\\Multi-AI-Agent-RAG-With-LangGraph\\\\data\\\\legal_research.csv', 'row': 15}, page_content='DocumentID: 16\\nCaseName: Case 16\\nDocumentType: Patent Filing\\nDate: 2020-08-10\\nSummary: A detailed review of risk management with implications for regulatory changes is outlined here.\\nRelevanceScore: 61\\nKeywords: risk, management, assessment'),\n",
       " Document(metadata={'source': 'F:\\\\Multi-AI-Agent-RAG-With-LangGraph\\\\data\\\\legal_research.csv', 'row': 16}, page_content='DocumentID: 17\\nCaseName: Case 17\\nDocumentType: Contract\\nDate: 2023-09-01\\nSummary: A detailed review of regulatory changes with implications for privacy concerns is outlined here.\\nRelevanceScore: 58\\nKeywords: litigation, trial, evidence'),\n",
       " Document(metadata={'source': 'F:\\\\Multi-AI-Agent-RAG-With-LangGraph\\\\data\\\\legal_research.csv', 'row': 17}, page_content='DocumentID: 18\\nCaseName: Case 18\\nDocumentType: Legal Analysis\\nDate: 2024-10-01\\nSummary: An in-depth analysis of privacy concerns is provided in this corporate mergers document.\\nRelevanceScore: 56\\nKeywords: contract, damages, breach'),\n",
       " Document(metadata={'source': 'F:\\\\Multi-AI-Agent-RAG-With-LangGraph\\\\data\\\\legal_research.csv', 'row': 18}, page_content='DocumentID: 19\\nCaseName: Case 19\\nDocumentType: Criminal Complaint\\nDate: 2018-04-19\\nSummary: An in-depth analysis of corporate mergers is provided in this regulatory changes document.\\nRelevanceScore: 77\\nKeywords: contract, damages, breach'),\n",
       " Document(metadata={'source': 'F:\\\\Multi-AI-Agent-RAG-With-LangGraph\\\\data\\\\legal_research.csv', 'row': 19}, page_content='DocumentID: 20\\nCaseName: Case 20\\nDocumentType: Contract\\nDate: 2024-04-17\\nSummary: A detailed review of environmental regulations with implications for corporate mergers is outlined here.\\nRelevanceScore: 63\\nKeywords: merger, acquisition, corporate')]"
      ]
     },
     "execution_count": 8,
     "metadata": {},
     "output_type": "execute_result"
    }
   ],
   "source": [
    "doc_splits"
   ]
  },
  {
   "cell_type": "code",
   "execution_count": 13,
   "metadata": {},
   "outputs": [],
   "source": [
    "\n",
    "llm = ChatGroq(temperature=0, model=\"llama-3.3-70b-versatile\")"
   ]
  },
  {
   "cell_type": "code",
   "execution_count": 9,
   "metadata": {},
   "outputs": [],
   "source": [
    "# Initialize a language model (LLM) using ChatGroq with a specified temperature setting.\n",
    "# \"temperature=0\" ensures deterministic responses, reducing randomness.\n",
    "# The model being used is \"llama-3.3-70b-versatile\".\n",
    "llm = ChatGroq(temperature=0, model=\"llama-3.3-70b-versatile\")\n",
    "\n",
    "# Create an instance of LLMGraphTransformer, which will process documents\n",
    "# into a graph-based structure using the LLM.\n",
    "llm_transformer = LLMGraphTransformer(llm=llm)\n",
    "\n",
    "# Convert the previously split text documents into graph-based representations.\n",
    "# This transformation helps in structuring knowledge for better retrieval.\n",
    "graph_documents = llm_transformer.convert_to_graph_documents(doc_splits)"
   ]
  },
  {
   "cell_type": "code",
   "execution_count": 10,
   "metadata": {},
   "outputs": [
    {
     "data": {
      "text/plain": [
       "[GraphDocument(nodes=[Node(id='Case 1', type='Case', properties={}), Node(id='Regulatory Filing', type='Documenttype', properties={}), Node(id='2019-04-02', type='Date', properties={}), Node(id='Intellectual Property', type='Concept', properties={}), Node(id='Corporate Mergers', type='Concept', properties={}), Node(id='Environmental', type='Keyword', properties={}), Node(id='Regulation', type='Keyword', properties={}), Node(id='Compliance', type='Keyword', properties={})], relationships=[Relationship(source=Node(id='Case 1', type='Case', properties={}), target=Node(id='Regulatory Filing', type='Documenttype', properties={}), type='DOCUMENT_TYPE', properties={}), Relationship(source=Node(id='Case 1', type='Case', properties={}), target=Node(id='2019-04-02', type='Date', properties={}), type='DATE', properties={}), Relationship(source=Node(id='Case 1', type='Case', properties={}), target=Node(id='Intellectual Property', type='Concept', properties={}), type='ANALYZES', properties={}), Relationship(source=Node(id='Case 1', type='Case', properties={}), target=Node(id='Corporate Mergers', type='Concept', properties={}), type='RELATED_TO', properties={}), Relationship(source=Node(id='Case 1', type='Case', properties={}), target=Node(id='Environmental', type='Keyword', properties={}), type='TAGGED_WITH', properties={}), Relationship(source=Node(id='Case 1', type='Case', properties={}), target=Node(id='Regulation', type='Keyword', properties={}), type='TAGGED_WITH', properties={}), Relationship(source=Node(id='Case 1', type='Case', properties={}), target=Node(id='Compliance', type='Keyword', properties={}), type='TAGGED_WITH', properties={})], source=Document(metadata={'source': 'F:\\\\Multi-AI-Agent-RAG-With-LangGraph\\\\data\\\\legal_research.csv', 'row': 0}, page_content='DocumentID: 1\\nCaseName: Case 1\\nDocumentType: Regulatory Filing\\nDate: 2019-04-02\\nSummary: An in-depth analysis of intellectual property is provided in this corporate mergers document.\\nRelevanceScore: 90\\nKeywords: environmental, regulation, compliance')),\n",
       " GraphDocument(nodes=[Node(id='Case 2', type='Case', properties={}), Node(id='Brief', type='Document type', properties={}), Node(id='2018-04-13', type='Date', properties={}), Node(id='Risk Management', type='Concept', properties={}), Node(id='Litigation Strategy', type='Concept', properties={}), Node(id='Employment', type='Keyword', properties={}), Node(id='Discrimination', type='Keyword', properties={}), Node(id='Labor', type='Keyword', properties={})], relationships=[Relationship(source=Node(id='Case 2', type='Case', properties={}), target=Node(id='Brief', type='Document type', properties={}), type='HAS_DOCUMENT_TYPE', properties={}), Relationship(source=Node(id='Case 2', type='Case', properties={}), target=Node(id='2018-04-13', type='Date', properties={}), type='HAS_DATE', properties={}), Relationship(source=Node(id='Case 2', type='Case', properties={}), target=Node(id='Risk Management', type='Concept', properties={}), type='EXAMINES', properties={}), Relationship(source=Node(id='Case 2', type='Case', properties={}), target=Node(id='Litigation Strategy', type='Concept', properties={}), type='OFFERS_INSIGHTS', properties={}), Relationship(source=Node(id='Case 2', type='Case', properties={}), target=Node(id='Employment', type='Keyword', properties={}), type='IS_RELATED_TO', properties={}), Relationship(source=Node(id='Case 2', type='Case', properties={}), target=Node(id='Discrimination', type='Keyword', properties={}), type='IS_RELATED_TO', properties={}), Relationship(source=Node(id='Case 2', type='Case', properties={}), target=Node(id='Labor', type='Keyword', properties={}), type='IS_RELATED_TO', properties={})], source=Document(metadata={'source': 'F:\\\\Multi-AI-Agent-RAG-With-LangGraph\\\\data\\\\legal_research.csv', 'row': 1}, page_content='DocumentID: 2\\nCaseName: Case 2\\nDocumentType: Brief\\nDate: 2018-04-13\\nSummary: This filing examines risk management and offers insights into litigation strategy.\\nRelevanceScore: 79\\nKeywords: employment, discrimination, labor')),\n",
       " GraphDocument(nodes=[Node(id='Documentid: 3', type='Document', properties={}), Node(id='Case 3', type='Case', properties={}), Node(id='Legal Analysis', type='Documenttype', properties={}), Node(id='2021-01-31', type='Date', properties={}), Node(id='Environmental Regulations', type='Topic', properties={}), Node(id='Corporate Mergers', type='Topic', properties={}), Node(id='Privacy', type='Keyword', properties={}), Node(id='Data', type='Keyword', properties={}), Node(id='Security', type='Keyword', properties={})], relationships=[Relationship(source=Node(id='Documentid: 3', type='Document', properties={}), target=Node(id='Case 3', type='Case', properties={}), type='HAS_CASE', properties={}), Relationship(source=Node(id='Documentid: 3', type='Document', properties={}), target=Node(id='Legal Analysis', type='Documenttype', properties={}), type='HAS_DOCUMENT_TYPE', properties={}), Relationship(source=Node(id='Documentid: 3', type='Document', properties={}), target=Node(id='2021-01-31', type='Date', properties={}), type='HAS_DATE', properties={}), Relationship(source=Node(id='Documentid: 3', type='Document', properties={}), target=Node(id='Environmental Regulations', type='Topic', properties={}), type='DISCUSSES', properties={}), Relationship(source=Node(id='Documentid: 3', type='Document', properties={}), target=Node(id='Corporate Mergers', type='Topic', properties={}), type='REFERENCES', properties={}), Relationship(source=Node(id='Documentid: 3', type='Document', properties={}), target=Node(id='Privacy', type='Keyword', properties={}), type='HAS_KEYWORD', properties={}), Relationship(source=Node(id='Documentid: 3', type='Document', properties={}), target=Node(id='Data', type='Keyword', properties={}), type='HAS_KEYWORD', properties={}), Relationship(source=Node(id='Documentid: 3', type='Document', properties={}), target=Node(id='Security', type='Keyword', properties={}), type='HAS_KEYWORD', properties={})], source=Document(metadata={'source': 'F:\\\\Multi-AI-Agent-RAG-With-LangGraph\\\\data\\\\legal_research.csv', 'row': 2}, page_content='DocumentID: 3\\nCaseName: Case 3\\nDocumentType: Legal Analysis\\nDate: 2021-01-31\\nSummary: This document discusses environmental regulations with reference to corporate mergers.\\nRelevanceScore: 66\\nKeywords: privacy, data, security')),\n",
       " GraphDocument(nodes=[Node(id='Case 4', type='Patent filing', properties={}), Node(id='Environmental Regulations', type='Regulation', properties={}), Node(id='Employment Law', type='Law', properties={})], relationships=[Relationship(source=Node(id='Case 4', type='Patent filing', properties={}), target=Node(id='Environmental Regulations', type='Regulation', properties={}), type='ANALYZES', properties={}), Relationship(source=Node(id='Case 4', type='Patent filing', properties={}), target=Node(id='Employment Law', type='Law', properties={}), type='RELATED_TO', properties={})], source=Document(metadata={'source': 'F:\\\\Multi-AI-Agent-RAG-With-LangGraph\\\\data\\\\legal_research.csv', 'row': 3}, page_content='DocumentID: 4\\nCaseName: Case 4\\nDocumentType: Patent Filing\\nDate: 2020-09-30\\nSummary: An in-depth analysis of environmental regulations is provided in this employment law document.\\nRelevanceScore: 98\\nKeywords: regulation, policy, update')),\n",
       " GraphDocument(nodes=[Node(id='Documentid 5', type='Document', properties={}), Node(id='Case 5', type='Case', properties={}), Node(id='Regulatory Filing', type='Documenttype', properties={}), Node(id='2020-07-03', type='Date', properties={}), Node(id='Contract Law', type='Law', properties={}), Node(id='Environmental Regulations', type='Regulations', properties={}), Node(id='Privacy', type='Concept', properties={}), Node(id='Data', type='Concept', properties={}), Node(id='Security', type='Concept', properties={})], relationships=[Relationship(source=Node(id='Documentid 5', type='Document', properties={}), target=Node(id='Case 5', type='Case', properties={}), type='RELATED_TO', properties={}), Relationship(source=Node(id='Documentid 5', type='Document', properties={}), target=Node(id='Regulatory Filing', type='Documenttype', properties={}), type='CLASSIFIED_AS', properties={}), Relationship(source=Node(id='Documentid 5', type='Document', properties={}), target=Node(id='2020-07-03', type='Date', properties={}), type='DATED', properties={}), Relationship(source=Node(id='Documentid 5', type='Document', properties={}), target=Node(id='Contract Law', type='Law', properties={}), type='DISCUSSES', properties={}), Relationship(source=Node(id='Documentid 5', type='Document', properties={}), target=Node(id='Environmental Regulations', type='Regulations', properties={}), type='REFERENCES', properties={}), Relationship(source=Node(id='Contract Law', type='Law', properties={}), target=Node(id='Environmental Regulations', type='Regulations', properties={}), type='RELATED_TO', properties={}), Relationship(source=Node(id='Documentid 5', type='Document', properties={}), target=Node(id='Privacy', type='Concept', properties={}), type='MENTIONS', properties={}), Relationship(source=Node(id='Documentid 5', type='Document', properties={}), target=Node(id='Data', type='Concept', properties={}), type='MENTIONS', properties={}), Relationship(source=Node(id='Documentid 5', type='Document', properties={}), target=Node(id='Security', type='Concept', properties={}), type='MENTIONS', properties={})], source=Document(metadata={'source': 'F:\\\\Multi-AI-Agent-RAG-With-LangGraph\\\\data\\\\legal_research.csv', 'row': 4}, page_content='DocumentID: 5\\nCaseName: Case 5\\nDocumentType: Regulatory Filing\\nDate: 2020-07-03\\nSummary: This document discusses contract law with reference to environmental regulations.\\nRelevanceScore: 69\\nKeywords: privacy, data, security'))]"
      ]
     },
     "execution_count": 10,
     "metadata": {},
     "output_type": "execute_result"
    }
   ],
   "source": [
    "graph_documents[:5]"
   ]
  },
  {
   "cell_type": "code",
   "execution_count": 11,
   "metadata": {},
   "outputs": [],
   "source": [
    "# Add the graph-based documents to the existing knowledge graph.\n",
    "graph.add_graph_documents(\n",
    "    graph_documents,   # The structured graph documents generated from the LLM.\n",
    "    baseEntityLabel=True,  # Enables labeling of base entities for better organization and retrieval.\n",
    "    include_source=True  # Retains the original source information for traceability.\n",
    ")"
   ]
  },
  {
   "cell_type": "code",
   "execution_count": 6,
   "metadata": {},
   "outputs": [],
   "source": [
    "# directly show the graph resulting from the given Cypher query\n",
    "default_cypher = \"MATCH (s)-[r:!MENTIONS]->(t) RETURN s,r,t LIMIT 50\""
   ]
  },
  {
   "cell_type": "code",
   "execution_count": 5,
   "metadata": {},
   "outputs": [],
   "source": [
    "def showGraph(cypher: str = default_cypher):\n",
    "    # create a neo4j session to run queries\n",
    "    driver = GraphDatabase.driver(\n",
    "        uri = os.environ[\"NEO4J_URI\"],\n",
    "        auth = (os.environ[\"NEO4J_USERNAME\"],\n",
    "                os.environ[\"NEO4J_PASSWORD\"]))\n",
    "    session = driver.session()\n",
    "    widget = GraphWidget(graph = session.run(cypher).graph())\n",
    "    widget.node_label_mapping = 'id'\n",
    "    display(widget)\n",
    "    return widget"
   ]
  },
  {
   "cell_type": "code",
   "execution_count": 14,
   "metadata": {},
   "outputs": [
    {
     "data": {
      "application/vnd.jupyter.widget-view+json": {
       "model_id": "4d1dd83c31294219a23093db3376031e",
       "version_major": 2,
       "version_minor": 0
      },
      "text/plain": [
       "GraphWidget(layout=Layout(height='800px', width='100%'))"
      ]
     },
     "metadata": {},
     "output_type": "display_data"
    },
    {
     "data": {
      "application/vnd.jupyter.widget-view+json": {
       "model_id": "4d1dd83c31294219a23093db3376031e",
       "version_major": 2,
       "version_minor": 0
      },
      "text/plain": [
       "GraphWidget(layout=Layout(height='800px', width='100%'))"
      ]
     },
     "metadata": {},
     "output_type": "display_data"
    }
   ],
   "source": [
    "showGraph()"
   ]
  },
  {
   "cell_type": "code",
   "execution_count": 7,
   "metadata": {},
   "outputs": [],
   "source": [
    "google_api_key = os.environ.get(\"GEMINI_API_KEY\")\n",
    "\n",
    "\n",
    "# Use the API key safely\n",
    "from langchain_google_genai import GoogleGenerativeAIEmbeddings\n",
    "embeddings = GoogleGenerativeAIEmbeddings(model=\"models/embedding-001\", google_api_key=google_api_key)"
   ]
  },
  {
   "cell_type": "code",
   "execution_count": 8,
   "metadata": {},
   "outputs": [],
   "source": [
    "vector_index = Neo4jVector.from_existing_graph(\n",
    "    embedding=embeddings,\n",
    "    search_type=\"hybrid\",\n",
    "    node_label=\"Document\",\n",
    "    text_node_properties=[\"text\"],\n",
    "    embedding_node_property=\"embedding\"\n",
    ")"
   ]
  },
  {
   "cell_type": "code",
   "execution_count": 9,
   "metadata": {},
   "outputs": [
    {
     "data": {
      "text/plain": [
       "[]"
      ]
     },
     "execution_count": 9,
     "metadata": {},
     "output_type": "execute_result"
    }
   ],
   "source": [
    "graph.query(\"CREATE FULLTEXT INDEX entity IF NOT EXISTS FOR (e:__Entity__) ON EACH [e.id]\")"
   ]
  },
  {
   "cell_type": "code",
   "execution_count": 10,
   "metadata": {},
   "outputs": [
    {
     "name": "stderr",
     "output_type": "stream",
     "text": [
      "c:\\conda_envs\\agent\\lib\\site-packages\\IPython\\core\\interactiveshell.py:3577: LangChainDeprecationWarning: As of langchain-core 0.3.0, LangChain uses pydantic v2 internally. The langchain_core.pydantic_v1 module was a compatibility shim for pydantic v1, and should no longer be used. Please update the code to import from Pydantic directly.\n",
      "\n",
      "For example, replace imports like: `from langchain_core.pydantic_v1 import BaseModel`\n",
      "with: `from pydantic import BaseModel`\n",
      "or the v1 compatibility namespace if you are working in a code base that has not been fully upgraded to pydantic 2 yet. \tfrom pydantic.v1 import BaseModel\n",
      "\n",
      "  exec(code_obj, self.user_global_ns, self.user_ns)\n"
     ]
    }
   ],
   "source": [
    "\n",
    "from langchain_core.pydantic_v1 import BaseModel, Field\n",
    "# Extract entities from text\n",
    "class Entities(BaseModel):\n",
    "    \"\"\"Identifying information about entities.\"\"\"\n",
    "\n",
    "    names: List[str] = Field(\n",
    "        ...,\n",
    "        description=\"All the person, organization, or business entities that \"\n",
    "        \"appear in the text\",\n",
    "    )"
   ]
  },
  {
   "cell_type": "code",
   "execution_count": 11,
   "metadata": {},
   "outputs": [],
   "source": [
    "prompt = ChatPromptTemplate.from_messages(\n",
    "    [\n",
    "        (\n",
    "            \"system\",\n",
    "            \"You are extracting organization and person entities from the text.\",\n",
    "        ),\n",
    "        (\n",
    "            \"human\",\n",
    "            \"Use the given format to extract information from the following \"\n",
    "            \"input: {question}\",\n",
    "        ),\n",
    "    ]\n",
    ")"
   ]
  },
  {
   "cell_type": "code",
   "execution_count": 14,
   "metadata": {},
   "outputs": [],
   "source": [
    "entity_chain = prompt | llm.with_structured_output(Entities)\n"
   ]
  },
  {
   "cell_type": "code",
   "execution_count": 15,
   "metadata": {},
   "outputs": [
    {
     "data": {
      "text/plain": [
       "['Regulatory Filing']"
      ]
     },
     "execution_count": 15,
     "metadata": {},
     "output_type": "execute_result"
    }
   ],
   "source": [
    "entity_chain.invoke({\"question\": \"'Regulatory Filing ?\"}).names"
   ]
  },
  {
   "cell_type": "code",
   "execution_count": 16,
   "metadata": {},
   "outputs": [],
   "source": [
    "def generate_full_text_query(input: str) -> str:\n",
    "    full_text_query = \"\"\n",
    "    words = [el for el in remove_lucene_chars(input).split() if el]\n",
    "    for word in words[:-1]:\n",
    "        full_text_query += f\" {word}~2 AND\"\n",
    "    full_text_query += f\" {words[-1]}~2\"\n",
    "    return full_text_query.strip()"
   ]
  },
  {
   "cell_type": "code",
   "execution_count": 17,
   "metadata": {},
   "outputs": [],
   "source": [
    "# Fulltext index query\n",
    "def structured_retriever(question: str) -> str:\n",
    "    result = \"\"\n",
    "    entities = entity_chain.invoke({\"question\": question})\n",
    "    for entity in entities.names:\n",
    "        response = graph.query(\n",
    "            \"\"\"CALL db.index.fulltext.queryNodes('entity', $query, {limit:2})\n",
    "            YIELD node,score\n",
    "            CALL {\n",
    "              WITH node\n",
    "              MATCH (node)-[r:!MENTIONS]->(neighbor)\n",
    "              RETURN node.id + ' - ' + type(r) + ' -> ' + neighbor.id AS output\n",
    "              UNION ALL\n",
    "              WITH node\n",
    "              MATCH (node)<-[r:!MENTIONS]-(neighbor)\n",
    "              RETURN neighbor.id + ' - ' + type(r) + ' -> ' +  node.id AS output\n",
    "            }\n",
    "            RETURN output LIMIT 50\n",
    "            \"\"\",\n",
    "            {\"query\": generate_full_text_query(entity)},\n",
    "        )\n",
    "        result += \"\\n\".join([el['output'] for el in response])\n",
    "    return result"
   ]
  },
  {
   "cell_type": "code",
   "execution_count": 19,
   "metadata": {},
   "outputs": [
    {
     "name": "stderr",
     "output_type": "stream",
     "text": [
      "Received notification from DBMS server: {severity: WARNING} {code: Neo.ClientNotification.Statement.FeatureDeprecationWarning} {category: DEPRECATION} {title: This feature is deprecated and will be removed in future versions.} {description: CALL subquery without a variable scope clause is now deprecated. Use CALL (node, node) { ... }} {position: line: 3, column: 13, offset: 104} for query: \"CALL db.index.fulltext.queryNodes('entity', $query, {limit:2})\\n            YIELD node,score\\n            CALL {\\n              WITH node\\n              MATCH (node)-[r:!MENTIONS]->(neighbor)\\n              RETURN node.id + ' - ' + type(r) + ' -> ' + neighbor.id AS output\\n              UNION ALL\\n              WITH node\\n              MATCH (node)<-[r:!MENTIONS]-(neighbor)\\n              RETURN neighbor.id + ' - ' + type(r) + ' -> ' +  node.id AS output\\n            }\\n            RETURN output LIMIT 50\\n            \"\n"
     ]
    },
    {
     "name": "stdout",
     "output_type": "stream",
     "text": [
      "Documentid: 3 - HAS_DOCUMENT_TYPE -> Legal Analysis\n",
      "Documentid: 12 - HAS_DOCUMENT_TYPE -> Legal Analysis\n",
      "Documentid 9 - CLASSIFIED_AS -> Legal Analysis\n",
      "Documentid 13 - ANALYSIS_OF -> Legal Analysis\n",
      "Documentid 18 - ANALYZED_BY -> Legal Analysis\n"
     ]
    }
   ],
   "source": [
    "\n",
    "print(structured_retriever(\"provide ,Legal Analysis ?\"))"
   ]
  },
  {
   "cell_type": "code",
   "execution_count": 20,
   "metadata": {},
   "outputs": [],
   "source": [
    "def retriever(question: str):\n",
    "    print(f\"Search query: {question}\")\n",
    "    structured_data = structured_retriever(question)\n",
    "    unstructured_data = [el.page_content for el in vector_index.similarity_search(question)]\n",
    "    final_data = f\"\"\"Structured data:\n",
    "{structured_data}\n",
    "Unstructured data:\n",
    "{\"#Document \". join(unstructured_data)}\n",
    "    \"\"\"\n",
    "    return final_data"
   ]
  },
  {
   "cell_type": "code",
   "execution_count": 21,
   "metadata": {},
   "outputs": [],
   "source": [
    "_template = \"\"\"Given the following conversation and a follow up question, rephrase the follow up question to be a standalone question,\n",
    "in its original language.\n",
    "Chat History:\n",
    "{chat_history}\n",
    "Follow Up Input: {question}\n",
    "Standalone question:\"\"\""
   ]
  },
  {
   "cell_type": "code",
   "execution_count": 22,
   "metadata": {},
   "outputs": [],
   "source": [
    "CONDENSE_QUESTION_PROMPT = PromptTemplate.from_template(_template)"
   ]
  },
  {
   "cell_type": "code",
   "execution_count": 23,
   "metadata": {},
   "outputs": [],
   "source": [
    "def _format_chat_history(chat_history: List[Tuple[str, str]]) -> List:\n",
    "    buffer = []\n",
    "    for human, ai in chat_history:\n",
    "        buffer.append(HumanMessage(content=human))\n",
    "        buffer.append(AIMessage(content=ai))\n",
    "    return buffer"
   ]
  },
  {
   "cell_type": "code",
   "execution_count": 24,
   "metadata": {},
   "outputs": [],
   "source": [
    "_search_query = RunnableBranch(\n",
    "    # If input includes chat_history, we condense it with the follow-up question\n",
    "    (\n",
    "        RunnableLambda(lambda x: bool(x.get(\"chat_history\"))).with_config(\n",
    "            run_name=\"HasChatHistoryCheck\"\n",
    "        ),  # Condense follow-up question and chat into a standalone_question\n",
    "        RunnablePassthrough.assign(\n",
    "            chat_history=lambda x: _format_chat_history(x[\"chat_history\"])\n",
    "        )\n",
    "        | CONDENSE_QUESTION_PROMPT\n",
    "        | ChatGroq(temperature=0)\n",
    "        | StrOutputParser(),\n",
    "    ),\n",
    "    # Else, we have no chat history, so just pass through the question\n",
    "    RunnableLambda(lambda x : x[\"question\"]),\n",
    ")"
   ]
  },
  {
   "cell_type": "code",
   "execution_count": 25,
   "metadata": {},
   "outputs": [],
   "source": [
    "template = \"\"\"Answer the question based only on the following context:\n",
    "{context}\n",
    "\n",
    "Question: {question}\n",
    "Use natural language and be concise.\n",
    "Answer:\"\"\""
   ]
  },
  {
   "cell_type": "code",
   "execution_count": 26,
   "metadata": {},
   "outputs": [],
   "source": [
    "prompt = ChatPromptTemplate.from_template(template)"
   ]
  },
  {
   "cell_type": "code",
   "execution_count": 27,
   "metadata": {},
   "outputs": [],
   "source": [
    "chain = (\n",
    "    RunnableParallel(\n",
    "        {\n",
    "            \"context\": _search_query | retriever,\n",
    "            \"question\": RunnablePassthrough(),\n",
    "        }\n",
    "    )\n",
    "    | prompt\n",
    "    | llm\n",
    "    | StrOutputParser()\n",
    ")"
   ]
  },
  {
   "cell_type": "code",
   "execution_count": 34,
   "metadata": {},
   "outputs": [
    {
     "name": "stdout",
     "output_type": "stream",
     "text": [
      "Search query: What employment law topics are relevant to Case 4?\n"
     ]
    },
    {
     "name": "stderr",
     "output_type": "stream",
     "text": [
      "Received notification from DBMS server: {severity: WARNING} {code: Neo.ClientNotification.Statement.FeatureDeprecationWarning} {category: DEPRECATION} {title: This feature is deprecated and will be removed in future versions.} {description: CALL subquery without a variable scope clause is now deprecated. Use CALL (node, node) { ... }} {position: line: 3, column: 13, offset: 104} for query: \"CALL db.index.fulltext.queryNodes('entity', $query, {limit:2})\\n            YIELD node,score\\n            CALL {\\n              WITH node\\n              MATCH (node)-[r:!MENTIONS]->(neighbor)\\n              RETURN node.id + ' - ' + type(r) + ' -> ' + neighbor.id AS output\\n              UNION ALL\\n              WITH node\\n              MATCH (node)<-[r:!MENTIONS]-(neighbor)\\n              RETURN neighbor.id + ' - ' + type(r) + ' -> ' +  node.id AS output\\n            }\\n            RETURN output LIMIT 50\\n            \"\n",
      "Received notification from DBMS server: {severity: WARNING} {code: Neo.ClientNotification.Statement.FeatureDeprecationWarning} {category: DEPRECATION} {title: This feature is deprecated and will be removed in future versions.} {description: CALL subquery without a variable scope clause is now deprecated. Use CALL () { ... }} {position: line: 1, column: 1, offset: 0} for query: \"CALL { CALL db.index.vector.queryNodes($index, $k, $embedding) YIELD node, score WITH collect({node:node, score:score}) AS nodes, max(score) AS max UNWIND nodes AS n RETURN n.node AS node, (n.score / max) AS score UNION CALL db.index.fulltext.queryNodes($keyword_index, $query, {limit: $k}) YIELD node, score WITH collect({node:node, score:score}) AS nodes, max(score) AS max UNWIND nodes AS n RETURN n.node AS node, (n.score / max) AS score } WITH node, max(score) AS score ORDER BY score DESC LIMIT $k RETURN reduce(str='', k IN ['text'] | str + '\\\\n' + k + ': ' + coalesce(node[k], '')) AS text, node {.*, `embedding`: Null, id: Null, `text`: Null} AS metadata, score\"\n"
     ]
    },
    {
     "data": {
      "text/plain": [
       "'Case 4 is related to employment law, and based on the provided information, the relevant topics include environmental regulations and their implications for employment law.'"
      ]
     },
     "execution_count": 34,
     "metadata": {},
     "output_type": "execute_result"
    }
   ],
   "source": [
    "chain.invoke({\"question\":  \"What employment law topics are relevant to Case 4?\"})"
   ]
  }
 ],
 "metadata": {
  "kernelspec": {
   "display_name": "Python 3",
   "language": "python",
   "name": "python3"
  },
  "language_info": {
   "codemirror_mode": {
    "name": "ipython",
    "version": 3
   },
   "file_extension": ".py",
   "mimetype": "text/x-python",
   "name": "python",
   "nbconvert_exporter": "python",
   "pygments_lexer": "ipython3",
   "version": "3.10.16"
  }
 },
 "nbformat": 4,
 "nbformat_minor": 2
}
